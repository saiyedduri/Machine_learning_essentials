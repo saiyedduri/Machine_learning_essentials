{
 "cells": [
  {
   "cell_type": "markdown",
   "id": "a61dcf33",
   "metadata": {},
   "source": [
    "# Histogram of the image"
   ]
  },
  {
   "cell_type": "markdown",
   "id": "b750a556",
   "metadata": {},
   "source": [
    "Ω ⊂ ℤᵈ: This is the domain of the image. It represents a finite set of pixel positions in a d-dimensional grid (for example, 2D for regular images, 3D for volumes).\n",
    "\n",
    "F ⊂ ℝ, discrete: This is the set of possible pixel values, like grayscale levels or color intensities.\n",
    "\n",
    "u: Ω → F: This is the image function, assigning a value from F to each position (pixel) in Ω. So for each pixel \n",
    "𝑥\n",
    "∈\n",
    "Ω\n",
    "𝑢\n",
    "(\n",
    "𝑥\n",
    ")\n",
    "∈\n",
    "𝐹 is the intensity at that pixel."
   ]
  },
  {
   "cell_type": "markdown",
   "id": "cde93db5",
   "metadata": {},
   "source": [
    "You define a function:\n",
    "\n",
    "$$\n",
    "H_u : F \\rightarrow \\mathbb{N}\n",
    "$$\n",
    "\n",
    "Given by:\n",
    "\n",
    "$$\n",
    "H_u(k) = \\#\\{ x \\in \\Omega \\mid u(x) = k \\}\n",
    "$$\n",
    "\n",
    "For each value \n",
    "𝑘\n",
    "∈\n",
    "𝐹\n",
    ", \n",
    "𝐻\n",
    "𝑢\n",
    "(\n",
    "𝑘\n",
    ")\n",
    "counts how many pixels in the image have the value \n",
    "𝑘."
   ]
  },
  {
   "cell_type": "markdown",
   "id": "99a2820f",
   "metadata": {},
   "source": [
    "# Definition of histogram on continuous image"
   ]
  },
  {
   "cell_type": "markdown",
   "id": "d954673c",
   "metadata": {},
   "source": [
    "In the continuous case, instead of counting pixels, we measure regions of the domain. The measure tells us \"how much\" of the image($ \\lambda$) lies in a certain intensity range.\n",
    "A continuous histogram (in this setting) is a density function $h_u$, telling how image density is spread out over the domain.\n",
    "​---\n",
    "\n",
    "Let  $u: \\Omega \\rightarrow F$  be a continuous image. Then its histogram $H_u$ is the pushforward measure.\n",
    "\n",
    "$u_*(\\lambda)$ on $F$, defined for any measurable set $B \\subset F$ by:\n",
    "\n",
    "$$\n",
    "H_u(B) = \\lambda(u^{-1}(B)) = \\lambda(\\{ x \\in \\Omega \\mid u(x) \\in B \\})\n",
    "$$\n",
    "\n",
    "If $H_u$ is absolutely continuous with respect to the Lebesgue measure on $F$, it means sets of zero Lebesgue measure in $F$ have zero $H_u$-mass.\n",
    "\n",
    "The histogram:\n",
    " $H_u(B) = \\int_B h_u(c) \\, dc$.\n",
    "\n",
    "\n",
    "If $H_u$ is not absolutely continuous, then there exists at least one set $B \\subseteq F$ with Lebesgue measure zero but $H_u(B) > 0$, meaning the pushforward measure assigns positive mass to a \"small\" (zero-length) set.\n",
    "\n",
    "This is called the pushforward measure $u_*(\\lambda)$, and here's what it means:\n",
    "\n",
    "For any measurable subset $B \\subset F$, the value $H_u(B)$ tells us how much area (in $\\Omega$) maps into $B$ under the image $u$.\n",
    "\n",
    "You're *\"pushing\"* the volume from the domain $\\Omega$ into the value space $F$ using the function $u$.\n",
    "\n",
    "---\n",
    "\n"
   ]
  },
  {
   "cell_type": "markdown",
   "id": "e29c17c5",
   "metadata": {},
   "source": [
    "# Contrast Enhancement"
   ]
  },
  {
   "cell_type": "markdown",
   "id": "1d3f7004",
   "metadata": {},
   "source": [
    "Goal: Given an image u: Ω → F. Find a function φ: F → F such that the transformed image v = φ ◦ u has a more balanced histogram.\n",
    "\n",
    "Let $\\mu$ be a measure on $[0,1]$ with density function  \n",
    "$f: [0,1] \\rightarrow \\mathbb{R}$, and let $\\varphi: [0,1] \\rightarrow [0,1]$  \n",
    "be differentiable and strictly monotonic.\n",
    "\n",
    "Let $\\mu$ be a measure on $[0,1]$ with density function $f$. \n",
    "Then for any measurable set $A \\subseteq [0,1]$, we have $\\mu(A) = \\int_A f(x)\\, dx$.\n",
    "\n",
    "Then the pushforward measure $\\nu = \\varphi_* \\mu$ possesses the density function:\n",
    "\n",
    "$$\n",
    "g(y) = \\frac{f(\\varphi^{-1}(y))}{\\left| \\varphi'(\\varphi^{-1}(y)) \\right|}\n",
    "$$\n",
    "---"
   ]
  },
  {
   "cell_type": "markdown",
   "id": "2be8b96f",
   "metadata": {},
   "source": [
    "This is a direct application of the change of variables formula for integrals.\n",
    "\n",
    "Suppose you want to compute:\n",
    "\n",
    "$$\n",
    "\\nu(B) = \\mu(\\varphi^{-1}(B)) = \\int_{\\varphi^{-1}(B)} f(x) \\, dx\n",
    "$$\n",
    "\n",
    "Let’s make a change of variable:  \n",
    "$y = \\varphi(x)$, so $x = \\varphi^{-1}(y)$.\n",
    "\n",
    "Then:\n",
    "\n",
    "$$\n",
    "\\int_{\\varphi^{-1}(B)} f(x) \\, dx = \\int_B f(\\varphi^{-1}(y)) \\cdot \\left| \\frac{d}{dy} \\varphi^{-1}(y) \\right| \\, dy\n",
    "$$\n",
    "\n",
    "Thus, the density $g$ of $\\nu$ is:\n",
    "\n",
    "$$\n",
    "g(y) = f(\\varphi^{-1}(y)) \\cdot \\left| \\frac{d}{dy} \\varphi^{-1}(y) \\right| = f(\\varphi^{-1}(y)) \\cdot \\left| \\varphi'(\\varphi^{-1}(y)) \\right|^{-1}\n",
    "$$\n",
    "---"
   ]
  },
  {
   "cell_type": "markdown",
   "id": "0806628a",
   "metadata": {},
   "source": [
    "# Affine contrast stretching"
   ]
  },
  {
   "cell_type": "markdown",
   "id": "96bda405",
   "metadata": {},
   "source": [
    "The linear transformation of the pixel values is defined as:\n",
    "$$\n",
    "\\varphi(k) = ak + b\n",
    "$$\n",
    "\n",
    "This is a simple affine transformation — just scaling and shifting the input value.\n",
    "\n",
    "---\n",
    "\n",
    "## What do $a$ and $b$ do?\n",
    "\n",
    "| Parameter       | Effect                 | Explanation                                          |\n",
    "|----------------|------------------------|------------------------------------------------------|\n",
    "| $a > 1$        | Contrast enhancement   | Increases the difference between dark and bright pixels |\n",
    "| $a < 1$        | Contrast attenuation   | Narrows the intensity range (flatter image)         |\n",
    "| $a = 1$, $b > 0$ | Brightening           | Shifts all pixels up (image becomes lighter)        |\n",
    "| $a = 1$, $b < 0$ | Darkening             | Shifts all pixels down (image becomes darker)       |\n",
    "\n",
    "---\n",
    "\n",
    "## Determine $a$ and $b$ to map range exactly\n",
    "\n",
    "We want the transformation $\\varphi(k)$ to map:\n",
    "\n",
    "- $\\varphi(k_{\\text{min}}) = 0$\n",
    "- $\\varphi(k_{\\text{max}}) = N$\n",
    "\n",
    "Plug these into the formula:\n",
    "\n",
    "$$\n",
    "a k_{\\text{min}} + b = 0\n",
    "$$\n",
    "\n",
    "$$\n",
    "a k_{\\text{max}} + b = N\n",
    "$$\n",
    "We are given two equations:  \n",
    "(1) $a k_{\\text{min}} + b = 0$  \n",
    "(2) $a k_{\\text{max}} + b = N$\n",
    "\n",
    "Subtracting (1) from (2) gives:  \n",
    "$a(k_{\\text{max}} - k_{\\text{min}}) = N \\Rightarrow a = \\dfrac{N}{k_{\\text{max}} - k_{\\text{min}}}$\n",
    "\n",
    "From (1), we get:  \n",
    "$b = -a k_{\\text{min}} = -\\dfrac{N \\cdot k_{\\text{min}}}{k_{\\text{max}} - k_{\\text{min}}}$\n",
    "\n",
    "So the final formula for $\\varphi(k)$ becomes:  \n",
    "$\\varphi(k) = a k + b = \\dfrac{N}{k_{\\text{max}} - k_{\\text{min}}}(k - k_{\\text{min}})$\n",
    "\n",
    "Or more cleanly:  \n",
    "$\\varphi(k) = \\dfrac{k - k_{\\text{min}}}{k_{\\text{max}} - k_{\\text{min}}} \\cdot N$\n"
   ]
  },
  {
   "cell_type": "markdown",
   "id": "909baded",
   "metadata": {},
   "source": [
    "# Use contrast stretching When:\n",
    "- The image is washed out, with pixel intensities squeezed into a narrow range.\n",
    "\n",
    "- You want a linear enhancement that preserves the relative brightness of objects.\n",
    "\n",
    "- You need to avoid overly altering the image structure (e.g., medical images, scientific images).\n",
    "\n",
    "# What contrast stretching Does:\n",
    "- Linearly maps the darkest pixel to 0 and the brightest to 255.\n",
    "\n",
    "- Keeps intensity relationships the same, just scales them.\n",
    "\n",
    "# Histogram after contrast stretching:\n",
    "- Just stretches the histogram to fill the full range.\n",
    "\n",
    "- Keeps the shape of the histogram mostly the same."
   ]
  },
  {
   "cell_type": "markdown",
   "id": "1a514c05",
   "metadata": {},
   "source": [
    "# Gamma correction"
   ]
  },
  {
   "cell_type": "markdown",
   "id": "43d3c467",
   "metadata": {},
   "source": [
    "The sensitivity of many detectors is not linear but follows a power law: captured_images = $I^\\gamma$ with some coefficient $\\gamma > 0$. This nonlinearity is usually compensated by **gamma correction**.\n",
    "\n",
    "The gamma correction function is:\n",
    "\n",
    "$\\varphi(k) = k_{\\text{max}} \\left( \\dfrac{k}{k_{\\text{max}}} \\right)^{1/\\gamma}$, where $k_{\\text{min}} = 0$\n",
    "\n",
    "- If $\\frac{1}{\\gamma}$ > 1, then the  small intensities get stretched (i.e., dark regions are brightened).\n",
    "- If  $\\frac{1}{\\gamma}$ < 1, large intensities get stretched (i.e., bright regions become brighter).\n"
   ]
  },
  {
   "cell_type": "markdown",
   "id": "03e1bf62",
   "metadata": {},
   "source": []
  },
  {
   "cell_type": "markdown",
   "id": "535b83c9",
   "metadata": {},
   "source": [
    "# Histogram Equalization"
   ]
  },
  {
   "cell_type": "markdown",
   "id": "6288984d",
   "metadata": {},
   "source": [
    "Goal: Given an image u: Ω → F. Find a transformation φ: $f$ → F such that transformed histogram Hφ◦u is as uniform as possible.\n",
    "\n",
    "Let $u: \\Omega \\rightarrow \\mathbb{R}$ be a continuous image with density $f > 0$.  \n",
    "Then the pushforward measure of the cumulative distribution function  \n",
    "$F(y) = \\int_{-\\infty}^{y} f(x) \\, dx$  is the uniform distribution on $[0, 1]$.\n",
    "\n",
    "If $f$ is the density of $u$, then the cumulative distribution function (CDF) $F$ maps the original intensities to $[0, 1]$.\n",
    "\n",
    "The pushforward of the measure defined by $f$ under $F$ is the uniform distribution on $[0, 1]$. Symbolically, $F_{\\#} \\mu_f = \\text{Uniform}[0,1]$.\n",
    "\n",
    "Here, $F$ acts as the transformation $\\phi$.\n",
    "\n",
    "The transformed density is given by:\n",
    "\n",
    "$g(y) = \\frac{f(\\phi^{-1}(y))}{\\phi'(\\phi^{-1}(y))}$\n"
   ]
  },
  {
   "cell_type": "markdown",
   "id": "7896097d",
   "metadata": {},
   "source": [
    "2. Histogram Equalization:\n",
    "\n",
    "What it does:\n",
    "    Redistributes pixel intensities to flatten the histogram.\n",
    "\n",
    "Aims to give each intensity value approximately the same frequency.\n",
    "\n",
    "Basic steps:\n",
    "Compute histogram.\n",
    "\n",
    "- Calculate cumulative distribution function (CDF).\n",
    "\n",
    "- Map old intensities to new ones using the scaled CDF.\n",
    "\n",
    "- Pros:\n",
    "Great for improving global contrast in images with poor dynamic range.\n",
    "\n",
    "Works well on images with background and foreground contrast.\n",
    "\n",
    "- Cons:\n",
    "May over-enhance noise.\n",
    "\n",
    "Can produce unnatural results or excessive brightness shifts."
   ]
  },
  {
   "cell_type": "markdown",
   "id": "0a20576a",
   "metadata": {},
   "source": [
    "# Noise"
   ]
  },
  {
   "cell_type": "markdown",
   "id": "8507d710",
   "metadata": {},
   "source": [
    "Digital images are typically corrupted by noise often in addition to some other distortions like blur. The kind of noises depends on te image aquistion systems. It can appear due to grainy photographic films that are digitalized, sensor quality of CCD chip, specific acquisition methods e.g; ultrasound or flurosence microscopy, perturbed image transmission by interfering channels or atmospheric disturbance during wireless transmission.\n",
    "\n",
    "Noise is of statistical behaviour and is thus modelled in a stochastic way."
   ]
  },
  {
   "cell_type": "markdown",
   "id": "371d82a1",
   "metadata": {},
   "source": [
    "# Def:Random variables"
   ]
  },
  {
   "cell_type": "markdown",
   "id": "c775bea3",
   "metadata": {},
   "source": [
    "Probability space:\n",
    "\n",
    "A probability space $(\\Omega, \\mathcal{A}, \\mu)$ consists of:\n",
    "- A set of states $\\Omega$\n",
    "- A set of events $\\mathcal{A}$\n",
    "- A probability measure $\\mu$ assigning to each event $A \\in \\mathcal{A}$ a probability $P(A) = \\mu(A) \\in [0, 1]$, satisfying standard axioms (non-negativity, countable additivity, etc.)\n",
    "\n",
    "A measurable mapping $X : \\Omega \\to \\mathbb{R}$ is called a real-valued random variable. It induces a probability measure $\\lambda$ on $\\mathbb{R}$ defined by:\n",
    "\n",
    "$\\lambda(I) = \\mu(\\{\\omega \\in \\Omega \\mid X(\\omega) \\in I\\})$, where $I \\subset \\mathbb{R}$.\n",
    "\n",
    "A function $f : \\mathbb{R} \\to \\mathbb{R}_{\\geq 0}$ is called a probability density function of the measure $\\lambda$ if it satisfies:\n",
    "\n",
    "$\\lambda(I) = \\int_I f(x)\\, dx$ for all measurable sets $I \\subset \\mathbb{R}$."
   ]
  },
  {
   "cell_type": "markdown",
   "id": "23581641",
   "metadata": {},
   "source": [
    "# Def: Gaussian distribution"
   ]
  },
  {
   "cell_type": "markdown",
   "id": "90a8f26c",
   "metadata": {},
   "source": [
    "The probability density function  \n",
    "$f(x) = \\frac{1}{\\sqrt{2\\pi\\sigma^2}} \\, e^{-\\frac{(x - \\mu)^2}{2\\sigma^2}}$  \n",
    "defines the Gaussian measure $\\mathcal{N}(\\mu, \\sigma^2)$ on $\\mathbb{R}$.\n",
    "\n",
    "A random variable $X$ is called Gaussian, denoted as $X \\sim \\mathcal{N}(\\mu, \\sigma^2)$, if the induced measure on $\\mathbb{R}$ is Gaussian."
   ]
  },
  {
   "cell_type": "markdown",
   "id": "30d804ee",
   "metadata": {},
   "source": [
    "The probability space $(\\Omega, \\mathcal{A}, \\mu)$ is often not given explicitly. Instead, one typically works directly with:\n",
    "\n",
    "- the **induced measure** $\\lambda$ on $\\mathbb{R}$, or  \n",
    "- the corresponding **density function** $f : \\mathbb{R} \\to \\mathbb{R}_{\\geq 0}$.\n",
    "\n",
    "The role of the underlying sample space $\\Omega$ is to provide a common domain for defining **multiple random variables** $X_i : \\Omega \\to \\mathbb{R}$, which may or may not be **stochastically dependent**."
   ]
  },
  {
   "cell_type": "markdown",
   "id": "33096cf1",
   "metadata": {},
   "source": [
    "# Definition: Independent Random Variables"
   ]
  },
  {
   "cell_type": "markdown",
   "id": "6cef1a5f",
   "metadata": {},
   "source": [
    "Two random variables $X$, $Y$ are called **independent** if for all $x, y \\in \\mathbb{R}$ we have:  \n",
    "$$\n",
    "\\mathbb{P}(X \\leq x \\land Y \\leq y) = \\mathbb{P}(X \\leq x) \\cdot \\mathbb{P}(Y \\leq y)\n",
    "$$\n"
   ]
  },
  {
   "cell_type": "markdown",
   "id": "6fd7242a",
   "metadata": {},
   "source": [
    "# Mean, Varaince and Standard deviation of X"
   ]
  },
  {
   "cell_type": "markdown",
   "id": "25e927ed",
   "metadata": {},
   "source": [
    "Let $X, Y : \\Omega \\to \\mathbb{R}$ be random variables.\n",
    "\n",
    "**Mean (Expectation):**\n",
    "$$\n",
    "\\mathbb{E}[X] = \\int_{\\Omega} X(\\omega) \\, d\\mu(\\omega) = \\int_{\\mathbb{R}} x \\, d\\mu(x) = \\int_{\\mathbb{R}} x f(x) \\, dx\n",
    "$$\n",
    "\n",
    "**Variance:**\n",
    "$$\n",
    "\\text{Var}(X) = \\mathbb{E}[(X - \\mathbb{E}[X])^2]\n",
    "$$\n",
    "\n",
    "**Covariance:**\n",
    "$$\n",
    "\\text{Cov}(X, Y) = \\mathbb{E}[(X - \\mathbb{E}[X])(Y - \\mathbb{E}[Y])]\n",
    "$$\n"
   ]
  },
  {
   "cell_type": "markdown",
   "id": "f4bb002d",
   "metadata": {},
   "source": [
    "Theorem:\n",
    "Two Gaussian random variables X, Y are independent if and only if they are uncorrelated,\n",
    "i.e., Cov(X, Y ) = 0.\n",
    "\n",
    "| Distribution | $p_X(x)$                                                                 | Mean                     | Variance                       |\n",
    "|--------------|--------------------------------------------------------------------------|--------------------------|--------------------------------|\n",
    "| Uniform      | $\\frac{1}{b - a} \\, \\mathbf{1}_{[a, b]}$                                  | $\\frac{a + b}{2}$        | $\\frac{(b - a)^2}{12}$         |\n",
    "| Gaussian     | $\\frac{1}{\\sqrt{2\\pi\\sigma^2}} e^{-\\frac{(x - \\mu)^2}{2\\sigma^2}}$       | $\\mu$                    | $\\sigma^2$                     |\n",
    "| Exponential  | $\\frac{1}{\\lambda} e^{-\\frac{x}{\\lambda}} \\, \\mathbf{1}_{> 0}$           | $\\lambda$                | $\\lambda^2$                    |\n",
    "| Rayleigh     | $\\frac{x}{\\sigma^2} e^{-\\frac{x^2}{2\\sigma^2}} \\, \\mathbf{1}_{> 0}$      | $\\sigma \\sqrt{\\frac{\\pi}{2}}$ | $\\left( \\frac{4 - \\pi}{2} \\right) \\sigma^2$ |\n",
    "| Gamma        | $\\frac{1}{\\theta^k \\Gamma(k)} e^{-\\frac{x}{\\theta}} x^{k - 1} \\, \\mathbf{1}_{> 0},\\ k > 0,\\ \\theta > 0$ | $k\\theta$               | $k\\theta^2$                    |\n"
   ]
  },
  {
   "cell_type": "markdown",
   "id": "ace8c4e0",
   "metadata": {},
   "source": [
    "# Noise in Images"
   ]
  },
  {
   "cell_type": "markdown",
   "id": "f29ece7d",
   "metadata": {},
   "source": [
    "A noisy image $u_{ij}$ is modeled as a matrix of random variables:  \n",
    "$u_{ij} : \\Omega \\rightarrow \\mathbb{R}, \\quad i = 1, \\dots, N,\\ j = 1, \\dots, M$\n",
    "\n",
    "An **explicit image** $u_{ij}(\\omega)$, where $\\omega \\in \\Omega$, is a **realization** of the random variable.\n",
    "\n",
    "The **noise** usually does not possess long-range features.  \n",
    "This property allows for its **separation from the true signal**."
   ]
  },
  {
   "cell_type": "markdown",
   "id": "384493ca",
   "metadata": {},
   "source": [
    "# Additive Noise"
   ]
  },
  {
   "cell_type": "markdown",
   "id": "2e7fd81e",
   "metadata": {},
   "source": [
    "Additive noise is a common model where each pixel in a noisy image is the sum of:\n",
    "\n",
    "- The **true image** (clean, original signal):  $u_{ij}^0$\n",
    "\n",
    "- A **random noise term**:  $\\varepsilon_{ij}(\\omega)$\n",
    "$$\n",
    "u_{ij}(\\omega) = u_{ij}^0 + \\varepsilon_{ij}(\\omega)\n",
    "$$\n",
    "\n",
    "If $\\mathbb{E}[\\varepsilon_{ij}] = 0$, then the expected value of the noisy image is equal to the true image:\n",
    "\n",
    "$$\n",
    "\\mathbb{E}[u_{ij}] = u_{ij}^0\n",
    "$$\n",
    "\n",
    "If the noise $\\varepsilon_{ij}$ is additionally the \"same\" for all $i, j$, we say the noise is **i.i.d.** — **independent and identically distributed** — and refer to it as **white noise**."
   ]
  },
  {
   "cell_type": "markdown",
   "id": "2bb05028",
   "metadata": {},
   "source": [
    "# Why Gaussian noise is popular\n",
    "- because it allows for simple theory and numeric\n",
    "- it is a good approximation for many real world measurements"
   ]
  },
  {
   "cell_type": "markdown",
   "id": "c3023521",
   "metadata": {},
   "source": [
    "# Multipicative Noise"
   ]
  },
  {
   "cell_type": "markdown",
   "id": "e9244fe1",
   "metadata": {},
   "source": [
    "Multiplicative noise occurs in imaging systems where the signal and noise interact — e.g., measurement depends on the signal strength.\n",
    "$$\n",
    "u_{ij}(\\omega) = u_{ij}^0 \\cdot \\varepsilon_{ij}(\\omega)\n",
    "$$\n",
    "Appears in: \n",
    "- Laser imaging\n",
    "\n",
    "- Ultrasound\n",
    "\n",
    "- SAR (Synthetic Aperture Radar)\n",
    "\n",
    "- CT (Computed Tomography)\n",
    "\n",
    "These systems often measure wave intensity, which is naturally affected multipicatively.\n",
    "\n",
    "only meaningful for nonnegative data and positive noise distributions\n",
    "\n",
    "typical distributions for ε: Gamma, Rayleigh, exponential.\n",
    "\n",
    "taking the logarithm translates multiplicative into additive noise.\n",
    "\n",
    "none of the above distributions is translated into Gaussian noise"
   ]
  },
  {
   "cell_type": "markdown",
   "id": "fc784375",
   "metadata": {},
   "source": [
    "# Impulsive Noise"
   ]
  },
  {
   "cell_type": "markdown",
   "id": "0a1e995a",
   "metadata": {},
   "source": [
    "**Impulsive Noise**\n",
    "\n",
    "Impulsive noise disturbs image values independently of the true value. Each pixel $u_{ij}$ is given by:\n",
    "\n",
    "$u_{ij} = \\begin{cases}\n",
    "u_{ij}^0, & \\text{with probability } \\alpha \\in [0, 1] \\\\\n",
    "\\varepsilon_{ij}, & \\text{with probability } 1 - \\alpha\n",
    "\\end{cases}$\n",
    "\n",
    "This models outliers or bad pixels in images. The parameter $\\alpha$ controls how much of the original image is retained.\n",
    "\n",
    "---\n",
    "\n",
    "**Types of Impulsive Noise**\n",
    "\n",
    "- **Unipolar impulsive noise**: $\\varepsilon_{ij} = \\text{const}$\n",
    "- **Salt and pepper noise**: $\\varepsilon_{ij} \\in \\{0, 1\\}$\n",
    "- **General case**: $\\varepsilon_{ij}$ is uniformly distributed over the color space $F$\n"
   ]
  },
  {
   "cell_type": "markdown",
   "id": "6f0e3fbd",
   "metadata": {
    "vscode": {
     "languageId": "tex"
    }
   },
   "source": [
    "**Poisson Noise**\n",
    "\n",
    "In Poisson noise, the image values follow a Poisson distribution with mean $\\lambda = u_{ij}^0$, i.e., $u_{ij} \\sim \\text{Pois}(u_{ij}^0)$.\n",
    "\n",
    "The Poisson distribution $\\text{Pois}(\\lambda)$ has the discrete density function $p(k) = \\frac{e^{-\\lambda} \\lambda^k}{k!}$.\n",
    "\n",
    "Key properties:\n",
    "\n",
    "- $\\mathbb{E}[\\text{Pois}(\\lambda)] = \\text{Var}[\\text{Pois}(\\lambda)] = \\lambda$\n",
    "- Models the occurrence of rare events, such as the number of photons detected at a sensor in a given time interval\n",
    "- It is the limit of the binomial distribution: $\\text{Binomial}(n, \\lambda/n) \\approx \\text{Pois}(\\lambda)$ as $n \\to \\infty$\n",
    "- For large $\\lambda$, the Poisson distribution approximates a Gaussian: $\\text{Pois}(\\lambda) \\approx \\mathcal{N}(\\lambda, \\lambda)$\n",
    "- The sum of independent Poisson-distributed variables is again Poisson-distributed\n",
    "\n"
   ]
  },
  {
   "cell_type": "markdown",
   "id": "0d1dee68",
   "metadata": {
    "vscode": {
     "languageId": "tex"
    }
   },
   "source": [
    "| Distribution | $p_X(k) = \\mathbb{P}(X = k)$                        | Mean               | Variance               |\n",
    "|--------------|-----------------------------------------------------|--------------------|-------------------------|\n",
    "| Uniform      | $\\frac{1}{n}, \\quad k = 1, \\dots, n$                | $\\frac{n+1}{2}$    | $\\frac{n^2 - 1}{12}$    |\n",
    "| Poisson      | $\\frac{\\lambda^k e^{-\\lambda}}{k!}, \\quad k \\in \\mathbb{N} \\cup \\{0\\}$ | $\\lambda$          | $\\lambda$               |\n",
    "| Binomial     | $\\binom{n}{k} p^k (1 - p)^{n - k}, \\quad k = 0, \\dots, n$ | $np$              | $np(1 - p)$             |\n",
    "| Geometric    | $p(1 - p)^{k - 1}, \\quad k \\in \\mathbb{N}$           | $\\frac{1}{p}$      | $\\frac{1 - p}{p^2}$     |\n"
   ]
  },
  {
   "cell_type": "markdown",
   "id": "235d5ec3",
   "metadata": {},
   "source": [
    "# Quality Measures"
   ]
  },
  {
   "cell_type": "markdown",
   "id": "439fdbd3",
   "metadata": {},
   "source": [
    "A good model of human image perception is yet to be defined. Among various measures, the most standard ones are the following:\n",
    "\n",
    "Let:\n",
    "\n",
    "- $u^0_{ij}$: true, often unknown image  \n",
    "- $v_{ij}$: distorted or reconstructed image  \n",
    "\n",
    "**Mean Squared Error (MSE):**  \n",
    "$\\text{MSE}(v, u^0) := \\frac{1}{N} \\|u^0 - v\\|_2^2 = \\frac{1}{N} \\sum_{ij} |u^0_{ij} - v_{ij}|^2$\n",
    "\n",
    "**Mean Absolute Error (MAE):**  \n",
    "$\\text{MAE}(v, u^0) := \\frac{1}{N} \\|u^0 - v\\|_1 = \\frac{1}{N} \\sum_{ij} |u^0_{ij} - v_{ij}|$\n",
    "\n"
   ]
  },
  {
   "cell_type": "markdown",
   "id": "51b280bc",
   "metadata": {},
   "source": [
    "## Signal-to-Noise Ratio (SNR)\n",
    "The higher the SNR, the closer \n",
    "𝑢\n",
    "0 is to the original \n",
    "𝑢, meaning less noise.\n",
    "\n",
    "It is expressed in decibels (dB) due to the log scale.\n",
    "\n",
    "The Signal-to-Noise Ratio is defined as:\n",
    "\n",
    "$ \\text{SNR}(v, u_0) := 10 \\log_{10} \\left( \\frac{\\|u_0\\|_2^2}{\\|u_0 - v\\|_2^2} \\right) $\n",
    "\n",
    "**Pros:**\n",
    "\n",
    "- Simple and intuitive: ratio of signal energy to error energy ($\\text{SNR} = \\frac{\\text{Signal Energy}}{\\text{Error Energy}}$).\n",
    "- Useful when the original signal power matters.\n",
    "\n",
    "**Cons:**\n",
    "\n",
    "- Sensitive to signal scaling.\n",
    "- Doesn’t account for perceptual quality.\n",
    "\n",
    "**Best for:** General signal processing, where you care about energy preservation.\n",
    "\n",
    "\n",
    "---\n",
    "\n",
    "## Peak Signal-to-Noise Ratio (PSNR)\n",
    "\n",
    "The Peak Signal-to-Noise Ratio is defined as:\n",
    "\n",
    "$ \\text{PSNR}(v, u_0) := 10 \\log_{10} \\left( \\frac{|\\max u_{0,ij} - \\min u_{0,ij}|^2}{\\frac{1}{N} \\|u_0 - v\\|_2^2} \\right) $\n",
    "\n",
    "Alternatively, it can be written as:\n",
    "\n",
    "$ \\text{PSNR} = 20 \\log_{10} \\left( \\frac{\\text{max signal amplitude}}{\\text{noise standard deviation}} \\right) $\n",
    "\n",
    "> **Note:** Sometimes $ \\min u_{0,ij} $ is simply replaced by zero.\n",
    "\n",
    "**Pros:**\n",
    "\n",
    "- Widely used in image/video compression.\n",
    "- Easy to compute and interpret.\n",
    "\n",
    "**Cons:**\n",
    "\n",
    "- Doesn’t correlate well with human perception.\n",
    "- Assumes pixel range is fixed (can mislead in floating-point data).\n",
    "\n",
    "**Best for:** Image processing, where standard datasets and metrics are expected.\n",
    "\n"
   ]
  },
  {
   "cell_type": "markdown",
   "id": "4b8a1232",
   "metadata": {},
   "source": [
    "**Mean Absolute Error**  \n",
    "$MAE(u_0, u) := \\frac{1}{N} \\|u - u_0\\|_1$\n",
    "\n",
    "**Mean Squared Error**  \n",
    "$MSE := \\frac{1}{N} \\|u - u_0\\|_2^2$\n"
   ]
  },
  {
   "cell_type": "markdown",
   "id": "282d5232",
   "metadata": {},
   "source": [
    "| Metric   | Error Sensitivity            | Human Perception | Common Use                  | Unit                |\n",
    "| -------- | ---------------------------- | ---------------- | --------------------------- | ------------------- |\n",
    "| **SNR**  | Relative to signal energy    | No               | Audio, signal denoising     | dB                  |\n",
    "| **PSNR** | Relative to max signal value | Slightly         | Image/video compression     | dB                  |\n",
    "| **MAE**  | Linear                       | No               | Forecasting, robust metrics | Same as signal      |\n",
    "| **MSE**  | Quadratic                    | No               | Training, optimization      | Squared signal unit |"
   ]
  },
  {
   "cell_type": "markdown",
   "id": "7231450d",
   "metadata": {},
   "source": [
    "# Structural Similarity"
   ]
  },
  {
   "cell_type": "markdown",
   "id": "8e972130",
   "metadata": {},
   "source": [
    "SSIM (Structural Similarity Index Measure) is a metric that compares two images (or signals) by focusing on how similar their structures are, rather than just comparing individual pixel values.\n",
    "\n",
    "Unlike metrics like MSE or PSNR, which measure raw differences in intensity or energy, SSIM evaluates three key components:\n",
    "\n",
    "Structure — Are the shapes and patterns (edges, textures, etc.) similar?\n",
    "\n",
    "Contrast — Are the brightness variations (differences between light and dark areas) similar?\n",
    "\n",
    "Luminance (brightness) — Are the overall light levels in the images similar?\n",
    "\n",
    "The SSIM between two images $u$ and $v$ is defined as:\n",
    "\n",
    "$\n",
    "\\text{SSIM}(u, v) = \\frac{(2 \\mu_u \\mu_v + C_1)(2 \\sigma_{uv} + C_2)}{(\\mu_u^2 + \\mu_v^2 + C_1)(\\sigma_u^2 + \\sigma_v^2 + C_2)}\n",
    "$\n",
    "\n",
    "where:\n",
    "\n",
    "- $\\mu_u, \\mu_v$ are the mean intensities of $u$ and $v$,\n",
    "- $\\sigma_u^2, \\sigma_v^2$ are the variances,\n",
    "- $\\sigma_{uv}$ is the covariance between $u$ and $v$,\n",
    "- $C_1, C_2$ are small constants to stabilize the division.\n"
   ]
  },
  {
   "cell_type": "markdown",
   "id": "2e2de624",
   "metadata": {},
   "source": [
    "# Black and white Thresholding for image segmentation:"
   ]
  },
  {
   "cell_type": "markdown",
   "id": "b63dfcf4",
   "metadata": {},
   "source": [
    "Let an 8-bit gray scale image  with  be given.      \n",
    "\n",
    "In this task we want to investigate different techniques for segmenting an image with respect to its intensity values  for suppose we are given a noisy gray scale image that originally contained only the two color values black and white. Then we can remove the noise using thresholding.\n",
    "\n",
    "First we load a noisy sample image and take a look at the histogram.\n",
    "\n",
    "Therefore we follow the strategy.\n",
    "Determine a threshold t (using various methods)\n",
    "Set all color values, that are greater than this threshold t to white and the others to black.\n",
    "Compare the results and histograms of all methods with the noisy input image noisy_fingerprint.\n",
    "\n",
    "a) Manual Selection / Median / Mean: Choose the threshold manually, use the median, use the mean value.\n",
    "\n",
    "b) Isodata-Algorithm: For some given threshold we denote the mean value of the black pixels by  and the mean value of the white pixels by . Now we want the treshold t to be the fixpoint (i.e. ) of the function , i.e. we choose t such that it is exactly in the middle of this mean values.\n",
    "Implement this Mean values for some value .\n",
    "Calculate  with a fixpoint iteration, that means compute the sequence  for  with a starting point . Finally, we choose the limit  as threshold."
   ]
  },
  {
   "cell_type": "code",
   "execution_count": null,
   "id": "a4e98192",
   "metadata": {},
   "outputs": [
    {
     "ename": "SyntaxError",
     "evalue": "cannot assign to function call here. Maybe you meant '==' instead of '='? (1096515891.py, line 2)",
     "output_type": "error",
     "traceback": [
      "\u001b[1;36m  Cell \u001b[1;32mIn[1], line 2\u001b[1;36m\u001b[0m\n\u001b[1;33m    t(1) = 125;\u001b[0m\n\u001b[1;37m    ^\u001b[0m\n\u001b[1;31mSyntaxError\u001b[0m\u001b[1;31m:\u001b[0m cannot assign to function call here. Maybe you meant '==' instead of '='?\n"
     ]
    },
    {
     "ename": "",
     "evalue": "",
     "output_type": "error",
     "traceback": [
      "\u001b[1;31mThe Kernel crashed while executing code in the current cell or a previous cell. \n",
      "\u001b[1;31mPlease review the code in the cell(s) to identify a possible cause of the failure. \n",
      "\u001b[1;31mClick <a href='https://aka.ms/vscodeJupyterKernelCrash'>here</a> for more info. \n",
      "\u001b[1;31mView Jupyter <a href='command:jupyter.viewOutput'>log</a> for further details."
     ]
    }
   ],
   "source": [
    "\n",
    "% TODO: manual Treshold\n",
    "t(1) = 125;\n",
    "\n",
    "% TODO: median Treshold\n",
    "t(2) = median(nFP(:));\n",
    "\n",
    "% TODO: mean Treshold\n",
    "t(3) = mean(nFP(:));\n",
    "\n",
    "% TODO: isodata Treshold\n",
    "  % start value\n",
    "  ti = round(mean(nFP(:)));\n",
    "  % Determine how often each individual gray scale value occurs (histogram)\n",
    "  [hist,~] = histcounts(nFP(:),0:256);\n",
    "  for n=1:20\n",
    "    % TODO: Calculate the expected values mu_black and mu_white\n",
    "    mu_black=sum(hist(1:ti+1).*(0:ti))/sum(hist(1:ti+1));\n",
    "    mu_white=sum(hist(ti+2:256).*(ti+1:255))/sum(hist(ti+2:256));\n",
    "    % TODO: Calculate the mean value of the expected values and round it to an integer.\n",
    "    ti=round(0.5*(mu_black+mu_white));\n",
    "  end\n",
    "t(4) = ti;\n",
    "\n",
    "% otsu -> individual method at the end of this script\n",
    "t(5) = otsu(nFP);"
   ]
  },
  {
   "cell_type": "markdown",
   "id": "021d511b",
   "metadata": {},
   "source": [
    "Extra) Otsu-Method: Calculate the threshold using Otsu's method, that means:\n",
    "The threshold  maximises the so-called inter-class-variance\n",
    "              \n",
    "such that .\n",
    "Here,  is the probability that a randomly selected pixel has a colour value from , i.e.\n",
    "             . Analogous yields .\n",
    "Hint: Calculate the inter-class variance  for all colour values  and then select the maximum value.\n"
   ]
  },
  {
   "cell_type": "code",
   "execution_count": null,
   "id": "31c32dec",
   "metadata": {},
   "outputs": [],
   "source": [
    "\n",
    "function t = otsu(A)\n",
    "\n",
    "% Determine how often each individual gray scale value occurs (histogram)\n",
    "[hist,~] = histcounts(A(:),0:256);\n",
    "\n",
    "% TODO: Otsu's Methode\n",
    "%         i)  Compute the inter-class variance for every gray scale value 0,...,255\n",
    "%         ii) Determine the indice of the Maximum of the inter-class variance.\n",
    "%                     Hint: [~,ind] = max(vector);\n",
    "sigma = zeros(1,256);\n",
    "for k=0:255\n",
    "  % Compute the propabilities\n",
    "  P_Schwarz = sum(hist(1:k+1))/length(A(:));\n",
    "  P_Weis = 1 - P_Schwarz;\n",
    "  % Compute the expected values\n",
    "  mu_Schwarz = sum(hist(1:k+1).*(0:k)) / sum(hist(1:k+1));\n",
    "  mu_Weis = sum(hist(k+2:256).*(k+1:255)) / sum(hist(k+2:256));\n",
    "  % Calculate the inter-class variance for the grey scale value k\n",
    "  sigma(k+1) = P_Schwarz*P_Weis*(mu_Schwarz-mu_Weis)^2;\n",
    "end\n",
    "% Determine the maximum value of the inter-class variance\n",
    "[~,t] = max(sigma);\n",
    "t = t-1;\n",
    "\n",
    "end"
   ]
  }
 ],
 "metadata": {
  "kernelspec": {
   "display_name": "base",
   "language": "python",
   "name": "python3"
  },
  "language_info": {
   "codemirror_mode": {
    "name": "ipython",
    "version": 3
   },
   "file_extension": ".py",
   "mimetype": "text/x-python",
   "name": "python",
   "nbconvert_exporter": "python",
   "pygments_lexer": "ipython3",
   "version": "3.12.7"
  }
 },
 "nbformat": 4,
 "nbformat_minor": 5
}
