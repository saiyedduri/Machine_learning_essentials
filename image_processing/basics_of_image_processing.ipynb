{
 "cells": [
  {
   "cell_type": "markdown",
   "id": "a61dcf33",
   "metadata": {},
   "source": [
    "# Histogram of the image"
   ]
  },
  {
   "cell_type": "markdown",
   "id": "b750a556",
   "metadata": {},
   "source": [
    "Ω ⊂ ℤᵈ: This is the domain of the image. It represents a finite set of pixel positions in a d-dimensional grid (for example, 2D for regular images, 3D for volumes).\n",
    "\n",
    "F ⊂ ℝ, discrete: This is the set of possible pixel values, like grayscale levels or color intensities.\n",
    "\n",
    "u: Ω → F: This is the image function, assigning a value from F to each position (pixel) in Ω. So for each pixel \n",
    "𝑥\n",
    "∈\n",
    "Ω\n",
    "𝑢\n",
    "(\n",
    "𝑥\n",
    ")\n",
    "∈\n",
    "𝐹 is the intensity at that pixel."
   ]
  },
  {
   "cell_type": "markdown",
   "id": "cde93db5",
   "metadata": {},
   "source": [
    "You define a function:\n",
    "\n",
    "$$\n",
    "H_u : F \\rightarrow \\mathbb{N}\n",
    "$$\n",
    "\n",
    "Given by:\n",
    "\n",
    "$$\n",
    "H_u(k) = \\#\\{ x \\in \\Omega \\mid u(x) = k \\}\n",
    "$$\n",
    "\n",
    "For each value \n",
    "𝑘\n",
    "∈\n",
    "𝐹\n",
    ", \n",
    "𝐻\n",
    "𝑢\n",
    "(\n",
    "𝑘\n",
    ")\n",
    "counts how many pixels in the image have the value \n",
    "𝑘."
   ]
  },
  {
   "cell_type": "markdown",
   "id": "99a2820f",
   "metadata": {},
   "source": [
    "# Definition of histogram on continuous image"
   ]
  },
  {
   "cell_type": "markdown",
   "id": "d954673c",
   "metadata": {},
   "source": [
    "In the continuous case, instead of counting pixels, we measure regions of the domain. The measure tells us \"how much\" of the image($ \\lambda$) lies in a certain intensity range.\n",
    "A continuous histogram (in this setting) is a density function $h_u$, telling how image density is spread out over the domain.\n",
    "​---\n",
    "\n",
    "Let  $u: \\Omega \\rightarrow F$  be a continuous image. Then its histogram $H_u$ is the pushforward measure.\n",
    "\n",
    "$u_*(\\lambda)$ on $F$, defined for any measurable set $B \\subset F$ by:\n",
    "\n",
    "$$\n",
    "H_u(B) = \\lambda(u^{-1}(B)) = \\lambda(\\{ x \\in \\Omega \\mid u(x) \\in B \\})\n",
    "$$\n",
    "\n",
    "If $H_u$ is absolutely continuous with respect to the Lebesgue measure on $F$, it means sets of zero Lebesgue measure in $F$ have zero $H_u$-mass.\n",
    "\n",
    "The histogram:\n",
    " $H_u(B) = \\int_B h_u(c) \\, dc$.\n",
    "\n",
    "\n",
    "If $H_u$ is not absolutely continuous, then there exists at least one set $B \\subseteq F$ with Lebesgue measure zero but $H_u(B) > 0$, meaning the pushforward measure assigns positive mass to a \"small\" (zero-length) set.\n",
    "\n",
    "This is called the pushforward measure $u_*(\\lambda)$, and here's what it means:\n",
    "\n",
    "For any measurable subset $B \\subset F$, the value $H_u(B)$ tells us how much area (in $\\Omega$) maps into $B$ under the image $u$.\n",
    "\n",
    "You're *\"pushing\"* the volume from the domain $\\Omega$ into the value space $F$ using the function $u$.\n",
    "\n",
    "\n"
   ]
  },
  {
   "cell_type": "markdown",
   "id": "e29c17c5",
   "metadata": {},
   "source": [
    "# Contrast Enhancement"
   ]
  },
  {
   "cell_type": "markdown",
   "id": "1d3f7004",
   "metadata": {},
   "source": [
    "Goal: Given an image u: Ω → F. Find a function φ: F → F such that the transformed image v = φ ◦ u has a more balanced histogram.\n",
    "\n",
    "Let $\\mu$ be a measure on $[0,1]$ with density function  \n",
    "$f: [0,1] \\rightarrow \\mathbb{R}$, and let $\\varphi: [0,1] \\rightarrow [0,1]$  \n",
    "be differentiable and strictly monotonic.\n",
    "\n",
    "Let $\\mu$ be a measure on $[0,1]$ with density function $f$. \n",
    "Then for any measurable set $A \\subseteq [0,1]$, we have $\\mu(A) = \\int_A f(x)\\, dx$.\n",
    "\n",
    "Then the pushforward measure $\\nu = \\varphi_* \\mu$ possesses the density function:\n",
    "\n",
    "$$\n",
    "g(y) = \\frac{f(\\varphi^{-1}(y))}{\\left| \\varphi'(\\varphi^{-1}(y)) \\right|}\n",
    "$$"
   ]
  },
  {
   "cell_type": "markdown",
   "id": "2be8b96f",
   "metadata": {},
   "source": [
    "This is a direct application of the change of variables formula for integrals.\n",
    "\n",
    "Suppose you want to compute:\n",
    "\n",
    "$$\n",
    "\\nu(B) = \\mu(\\varphi^{-1}(B)) = \\int_{\\varphi^{-1}(B)} f(x) \\, dx\n",
    "$$\n",
    "\n",
    "Let’s make a change of variable:  \n",
    "$y = \\varphi(x)$, so $x = \\varphi^{-1}(y)$.\n",
    "\n",
    "Then:\n",
    "\n",
    "$$\n",
    "\\int_{\\varphi^{-1}(B)} f(x) \\, dx = \\int_B f(\\varphi^{-1}(y)) \\cdot \\left| \\frac{d}{dy} \\varphi^{-1}(y) \\right| \\, dy\n",
    "$$\n",
    "\n",
    "Thus, the density $g$ of $\\nu$ is:\n",
    "\n",
    "$$\n",
    "g(y) = f(\\varphi^{-1}(y)) \\cdot \\left| \\frac{d}{dy} \\varphi^{-1}(y) \\right| = f(\\varphi^{-1}(y)) \\cdot \\left| \\varphi'(\\varphi^{-1}(y)) \\right|^{-1}\n",
    "$$\n"
   ]
  },
  {
   "cell_type": "markdown",
   "id": "0806628a",
   "metadata": {},
   "source": []
  }
 ],
 "metadata": {
  "kernelspec": {
   "display_name": "base",
   "language": "python",
   "name": "python3"
  },
  "language_info": {
   "name": "python",
   "version": "3.12.7"
  }
 },
 "nbformat": 4,
 "nbformat_minor": 5
}
