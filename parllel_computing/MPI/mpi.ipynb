{
 "cells": [
  {
   "cell_type": "markdown",
   "id": "9285c88c",
   "metadata": {},
   "source": [
    "Message passing interface(MPI) is primarily designed for distributed memory machines, though it can be useful in shared memory systems.It was first standardized in 1994.\n",
    "\n",
    "The MPI paradigm:\n",
    "    Processes can access local memory only but can communicate using messages.\n",
    "\n",
    "    The messages are passed from the local memory of one processor to the local memory of another processor, in magnitudes slower than to local memory.\n",
    "\n",
    "Latency transfer using MPI:    \n",
    " Latency infiband<0.6 µs, max 15m cable.\n",
    "    Bandwidth infiniband 400Gbit/s\n",
    "\n",
    "Advantages of MPI:\n",
    " It can improve the speed of shared \n",
    "\n"
   ]
  },
  {
   "cell_type": "code",
   "execution_count": null,
   "id": "b177efdf",
   "metadata": {},
   "outputs": [],
   "source": []
  }
 ],
 "metadata": {
  "language_info": {
   "name": "python"
  }
 },
 "nbformat": 4,
 "nbformat_minor": 5
}
