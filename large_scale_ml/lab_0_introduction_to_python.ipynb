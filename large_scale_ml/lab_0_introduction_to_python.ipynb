{
 "cells": [
  {
   "cell_type": "markdown",
   "metadata": {
    "editable": true,
    "slideshow": {
     "slide_type": "slide"
    },
    "tags": []
   },
   "source": [
    "# Lab 0: Brief introduction to Python and Jupyter\n",
    "---\n",
    "Instructor: Dr. Jan Blechschmidt\\\n",
    "Email: Jan.Blechschmidt@math.tu-freiberg.de\n",
    "\n",
    "---\n",
    "\n",
    "Organizational details:\n",
    "- please bring a laptop to all classes since we will often do programming exercises during or at the end of the sessions.\n",
    "- for the programming exercises, you can use a custom Python installation on your machine (probably without access to a GPU), a connection to a remote server with a working Python environment or [Google Colaboratory](https://colab.google/)\n",
    "\n",
    "To get startet quickly, I suggest to start with Google Colab. Download the Jupyter Notebook files from the Exercise section on OPAL and upload them to Google Colab."
   ]
  },
  {
   "attachments": {},
   "cell_type": "markdown",
   "metadata": {
    "editable": true,
    "slideshow": {
     "slide_type": "slide"
    },
    "tags": []
   },
   "source": [
    "## Part A: Introduction Python"
   ]
  },
  {
   "attachments": {},
   "cell_type": "markdown",
   "metadata": {
    "editable": true,
    "slideshow": {
     "slide_type": "fragment"
    },
    "tags": []
   },
   "source": [
    "With the command `a = [1, 2, 3]` you can set up a list."
   ]
  },
  {
   "cell_type": "code",
   "execution_count": null,
   "metadata": {
    "deletable": false,
    "editable": true,
    "nbgrader": {
     "cell_type": "code",
     "checksum": "7a3eda0e2767b60b0491b6aa82a9dffd",
     "grade": false,
     "grade_id": "cell-ef61d944d6baafc5",
     "locked": false,
     "schema_version": 3,
     "solution": true,
     "task": false
    },
    "slideshow": {
     "slide_type": "fragment"
    },
    "tags": []
   },
   "outputs": [],
   "source": [
    "# Type the command a = [1, 2, 3] and hit Shift + Enter\n",
    "# to execute this code cell and jump to the next cell.\n",
    "\n",
    "# YOUR CODE HERE"
   ]
  },
  {
   "attachments": {},
   "cell_type": "markdown",
   "metadata": {
    "editable": true,
    "slideshow": {
     "slide_type": "slide"
    },
    "tags": []
   },
   "source": [
    "With the function type, we can find out that `a` is of type *list*."
   ]
  },
  {
   "cell_type": "code",
   "execution_count": null,
   "metadata": {
    "deletable": false,
    "editable": true,
    "nbgrader": {
     "cell_type": "code",
     "checksum": "bb3ddc356f67ef2b4c93cad4d61d57dc",
     "grade": false,
     "grade_id": "cell-5dff3198c0f31109",
     "locked": false,
     "schema_version": 3,
     "solution": true,
     "task": false
    },
    "slideshow": {
     "slide_type": ""
    },
    "tags": []
   },
   "outputs": [],
   "source": [
    "# Type the command \n",
    "#\n",
    "# type(a)\n",
    "#\n",
    "# and hit Shift + Enter to execute this code cell\n",
    "# and jump to the next cell.\n",
    "\n",
    "# YOUR CODE HERE"
   ]
  },
  {
   "attachments": {},
   "cell_type": "markdown",
   "metadata": {},
   "source": [
    "By the way, comments can be set in various ways.\n",
    "The can start either with the hashtag sign **#**, i.e., \n",
    "    \n",
    "    # This is your code\n",
    "    \n",
    "or, for longer comments, start and end with three quotation marks **\"\"\"**, i.e.\n",
    "    \n",
    "    \"\"\" This comment\n",
    "    \n",
    "    be\n",
    "    across\n",
    "    multiple\n",
    "    lines...\n",
    "    \n",
    "    ... and may also include empty lines.\n",
    "    \"\"\"\n",
    "\n",
    "They should become a vital part of your code, and often help to increase the readability of your programs."
   ]
  },
  {
   "attachments": {},
   "cell_type": "markdown",
   "metadata": {},
   "source": [
    "The expression `a[1]` accesses the **second** element in the list `a`. In contrast to other programming languages such as *MATLAB*, python starts its enumeration with index `0`."
   ]
  },
  {
   "cell_type": "code",
   "execution_count": null,
   "metadata": {
    "deletable": false,
    "nbgrader": {
     "cell_type": "code",
     "checksum": "cb96f064017ee50400622596e2680367",
     "grade": false,
     "grade_id": "cell-adf6ca5dad89aca9",
     "locked": false,
     "schema_version": 3,
     "solution": true,
     "task": false
    }
   },
   "outputs": [],
   "source": [
    "# Type the command \n",
    "#\n",
    "# a[1]\n",
    "#\n",
    "# and hit Shift + Enter to execute this code cell\n",
    "# and jump to the next cell.\n",
    "\n",
    "# YOUR CODE HERE"
   ]
  },
  {
   "attachments": {},
   "cell_type": "markdown",
   "metadata": {},
   "source": [
    "Similar to `type()`, `len()` is a Python function that can be applied to different objects. It returns the length of the object.\n",
    "Find out the length of the list `a`."
   ]
  },
  {
   "cell_type": "code",
   "execution_count": null,
   "metadata": {
    "deletable": false,
    "nbgrader": {
     "cell_type": "code",
     "checksum": "804e227a1c95fa1da3437c1c2ac439c6",
     "grade": false,
     "grade_id": "cell-604e067848d71be3",
     "locked": false,
     "schema_version": 3,
     "solution": true,
     "task": false
    }
   },
   "outputs": [],
   "source": [
    "# YOUR CODE HERE"
   ]
  },
  {
   "attachments": {},
   "cell_type": "markdown",
   "metadata": {},
   "source": [
    "Now, set up a list `b` with elements `[4, 5, 6]`."
   ]
  },
  {
   "cell_type": "code",
   "execution_count": null,
   "metadata": {
    "deletable": false,
    "nbgrader": {
     "cell_type": "code",
     "checksum": "bd572e17591e123dc664a0c5edf07cfe",
     "grade": false,
     "grade_id": "cell-a2bfdf28dbcbca46",
     "locked": false,
     "schema_version": 3,
     "solution": true,
     "task": false
    }
   },
   "outputs": [],
   "source": [
    "# YOUR CODE HERE"
   ]
  },
  {
   "attachments": {},
   "cell_type": "markdown",
   "metadata": {},
   "source": [
    "Try the command `a + b`. What happens if you multiply the list `a` by a scalar?\n",
    "\n",
    "If you have multiple commands that yield an output, only the last one is displayed. You can show it by putting the command inside the `print()` function."
   ]
  },
  {
   "cell_type": "code",
   "execution_count": null,
   "metadata": {
    "deletable": false,
    "nbgrader": {
     "cell_type": "code",
     "checksum": "6b53f67f47d451b51f45ea151e095ac2",
     "grade": false,
     "grade_id": "cell-d44e98983a6dec33",
     "locked": false,
     "schema_version": 3,
     "solution": true,
     "task": false
    }
   },
   "outputs": [],
   "source": [
    "# YOUR CODE HERE"
   ]
  },
  {
   "attachments": {},
   "cell_type": "markdown",
   "metadata": {},
   "source": [
    "To find out what else we can do with a list, we may type `a.` and press the **Tab** key (in Jupyter Lab) or wait a second (in Google Colab). In Jupyter and other programming environments, a listing will be displayed with the available methods of the\n",
    "class *list*.\n",
    "You can, for example, append the number 1 to the list `a` by evaluating `a.append(1)`."
   ]
  },
  {
   "cell_type": "code",
   "execution_count": null,
   "metadata": {
    "deletable": false,
    "nbgrader": {
     "cell_type": "code",
     "checksum": "fbf5e5fbe7afff6e439a6cb7567f20b1",
     "grade": false,
     "grade_id": "cell-41fe2e77a4dabeee",
     "locked": false,
     "schema_version": 3,
     "solution": true,
     "task": false
    }
   },
   "outputs": [],
   "source": [
    "# Type the command \n",
    "#\n",
    "# a.append(1)\n",
    "#\n",
    "# and hit Shift + Enter to execute this code cell\n",
    "# and jump to the next cell.\n",
    "\n",
    "# YOUR CODE HERE"
   ]
  },
  {
   "attachments": {},
   "cell_type": "markdown",
   "metadata": {
    "editable": true,
    "slideshow": {
     "slide_type": ""
    },
    "tags": []
   },
   "source": [
    "You can always type a question mark **?** in front or behind of a function, e.g., `? a.append`, in order to see the built-in documentation of a function.\n",
    "Depending on how extensively the function/method is commented this\n",
    "can be more or less helpful.\n",
    "Now, you should sort the list `a` in descending order.\n",
    "\n",
    "**Task**: Find a suitable function by typing `a.` and use the **Tab** key to get a listing of the various methods available for a list (in Jupyter Lab).\n",
    "If you are using Google Colab, you just have to wait a second without hitting the **Tab** key.\n",
    "Then use the question mark to find out the function's behaviour."
   ]
  },
  {
   "cell_type": "code",
   "execution_count": null,
   "metadata": {
    "deletable": false,
    "nbgrader": {
     "cell_type": "code",
     "checksum": "733574d3e6fcf53257a6b47becb34941",
     "grade": false,
     "grade_id": "cell-8222ee4d50c8ab9c",
     "locked": false,
     "schema_version": 3,
     "solution": true,
     "task": false
    }
   },
   "outputs": [],
   "source": [
    "# YOUR CODE HERE"
   ]
  },
  {
   "attachments": {},
   "cell_type": "markdown",
   "metadata": {},
   "source": [
    "We conclude, that the method has two optional inputs, namely `key` with default value `None` and `reverse` with default value `False`.\n",
    "You can close the help dialogue by typing **q**.\n"
   ]
  },
  {
   "attachments": {},
   "cell_type": "markdown",
   "metadata": {},
   "source": [
    "**Task**: Now sort the list in descending order. Since this function has no output, you may type `print(a)` in a new line to check whether your sorting has been successful."
   ]
  },
  {
   "cell_type": "code",
   "execution_count": null,
   "metadata": {
    "deletable": false,
    "nbgrader": {
     "cell_type": "code",
     "checksum": "dda3067d5fa7aac640a5d1e3fb3a964e",
     "grade": false,
     "grade_id": "cell-a392ea066e962016",
     "locked": false,
     "schema_version": 3,
     "solution": true,
     "task": false
    }
   },
   "outputs": [],
   "source": [
    "# YOUR CODE HERE"
   ]
  },
  {
   "attachments": {},
   "cell_type": "markdown",
   "metadata": {},
   "source": [
    "**Task**: Insert the number `5` at the second position of `a`.\n",
    "To achieve this, look for a suitable method and become comfortable with it using `?`.\n",
    "\n",
    "Finally, you should have `a = [3, 5, 2, 1, 1]`."
   ]
  },
  {
   "cell_type": "code",
   "execution_count": null,
   "metadata": {
    "deletable": false,
    "nbgrader": {
     "cell_type": "code",
     "checksum": "dc3702cb5f8cbe7d9e9a8de8b1d98150",
     "grade": false,
     "grade_id": "cell-6198c8ff5d9bb816",
     "locked": false,
     "schema_version": 3,
     "solution": true,
     "task": false
    }
   },
   "outputs": [],
   "source": [
    "# YOUR CODE HERE"
   ]
  },
  {
   "attachments": {},
   "cell_type": "markdown",
   "metadata": {},
   "source": [
    "Plain python without additional modules is not capable of handling advanced mathematical problems.\n",
    "Packages extend the functionalities of python in different ways.\n",
    "We will introduce some of them in the upcoming labs."
   ]
  },
  {
   "attachments": {},
   "cell_type": "markdown",
   "metadata": {},
   "source": [
    "## Part B: Introduction Numpy"
   ]
  },
  {
   "attachments": {},
   "cell_type": "markdown",
   "metadata": {},
   "source": [
    "As already indicated, packages are extremly important in `Python`.\n",
    "Undoubtedly, one of the most useful package for scientific computing is numpy, which is imported by typing\n",
    "    \n",
    "    import numpy as np\n",
    "\n",
    "Please familiarize yourself with one of the many tutorials, e.g.,\n",
    "\n",
    "https://docs.scipy.org/doc/numpy/user/quickstart.html\n",
    "\n",
    "\n",
    "For those who have previously worked with MATLAB, the following overview is also worth a short look\n",
    "\n",
    "https://docs.scipy.org/doc/numpy/user/numpy-for-matlab-users.html.\n",
    "\n",
    "**Short note**: It is not common to import all functions of a package via `from numpy import ∗`.\n",
    "Instead, one uses `import numpy` or `import numpy as np`, which provides access to the package’s functions via `numpy.ndarray` or `np.ndarray`, resp."
   ]
  },
  {
   "cell_type": "code",
   "execution_count": null,
   "metadata": {},
   "outputs": [],
   "source": [
    "import numpy as np"
   ]
  },
  {
   "attachments": {},
   "cell_type": "markdown",
   "metadata": {},
   "source": [
    "Execute the following code block to initialize the matrix\n",
    "\n",
    "$$\n",
    "A = \\begin{pmatrix} 1 & -1 \\\\ -1 & 1\\end{pmatrix}\n",
    "$$\n",
    "\n",
    "as an array.\n",
    "\n",
    "*Note*: Numpy also supports the data type `matrix` which is no longer recommended, even for linear algebra. Instead use arrays as we'll do throughout our labs."
   ]
  },
  {
   "cell_type": "code",
   "execution_count": null,
   "metadata": {},
   "outputs": [],
   "source": [
    "A = np.array([[1, -1], [-1, 1]])\n",
    "print(A)"
   ]
  },
  {
   "attachments": {},
   "cell_type": "markdown",
   "metadata": {},
   "source": [
    "\n",
    "**Task**: Create the following matrix\n",
    "\n",
    "$$\n",
    "B = \\begin{pmatrix}\n",
    "5 & 6 & 7 & 8 \\\\\n",
    "1 & 2 & 3 & 4\n",
    "\\end{pmatrix}\n",
    "$$\n",
    "\n",
    "as an `array` through direct input using the function `np.array`."
   ]
  },
  {
   "cell_type": "code",
   "execution_count": null,
   "metadata": {
    "deletable": false,
    "nbgrader": {
     "cell_type": "code",
     "checksum": "50452b7a10de80e66e16e6d9f1c79586",
     "grade": false,
     "grade_id": "cell-148bd14a392de2b3",
     "locked": false,
     "schema_version": 3,
     "solution": true,
     "task": false
    }
   },
   "outputs": [],
   "source": [
    "# YOUR CODE HERE\n"
   ]
  },
  {
   "attachments": {},
   "cell_type": "markdown",
   "metadata": {},
   "source": [
    "**Task**: Create the matrix \n",
    "\n",
    "$$\n",
    "C = \\begin{pmatrix}\n",
    "1 & 2 & 3 & 4 \\\\\n",
    "5 & 6 & 7 & 8\n",
    "\\end{pmatrix}\n",
    "$$\n",
    "\n",
    "using the commands `np.arange` and `np.reshape`. Again, you can always use the question mark `? np.arange` to get immediate help."
   ]
  },
  {
   "cell_type": "code",
   "execution_count": null,
   "metadata": {
    "deletable": false,
    "nbgrader": {
     "cell_type": "code",
     "checksum": "52533e55536a338e2984d739feb0f7bb",
     "grade": false,
     "grade_id": "cell-e705355bab2be952",
     "locked": false,
     "schema_version": 3,
     "solution": true,
     "task": false
    }
   },
   "outputs": [],
   "source": [
    "# YOUR CODE HERE\n"
   ]
  },
  {
   "attachments": {},
   "cell_type": "markdown",
   "metadata": {},
   "source": [
    "Machine Learning and data science often require not only matrix products but also element-wise products, also called Hadamard products. Since we are typically using arrays instead of matrices, the product sign `*` is used for the entrywise product.\n",
    "\n",
    "**Task**: Check this by computing `B * C`."
   ]
  },
  {
   "cell_type": "code",
   "execution_count": null,
   "metadata": {
    "deletable": false,
    "editable": true,
    "nbgrader": {
     "cell_type": "code",
     "checksum": "459d0d5aefda93411a0da79f926b730b",
     "grade": false,
     "grade_id": "cell-941447700b956618",
     "locked": false,
     "schema_version": 3,
     "solution": true,
     "task": false
    },
    "slideshow": {
     "slide_type": ""
    },
    "tags": []
   },
   "outputs": [],
   "source": [
    "# YOUR CODE HERE\n"
   ]
  },
  {
   "attachments": {},
   "cell_type": "markdown",
   "metadata": {},
   "source": [
    "Fortunately, the matrix product is also implemented. In order to compute the matrix product $A \\cdot B$ you can either type `A.dot(B)` or use the `@` operator.\n",
    "\n",
    "**Task**: Compute the matrix product $A \\cdot B$ by executing `A @ B`."
   ]
  },
  {
   "cell_type": "code",
   "execution_count": null,
   "metadata": {
    "deletable": false,
    "nbgrader": {
     "cell_type": "code",
     "checksum": "8f28b4f3518e0938346fe43b48fd3694",
     "grade": false,
     "grade_id": "cell-e6094007b2b0ca46",
     "locked": false,
     "schema_version": 3,
     "solution": true,
     "task": false
    }
   },
   "outputs": [],
   "source": [
    "# YOUR CODE HERE\n"
   ]
  },
  {
   "attachments": {},
   "cell_type": "markdown",
   "metadata": {},
   "source": [
    "The transpose of an array can be computed by the method `.T`.\n",
    "\n",
    "\n",
    "**Task**: Use this to compute $D =  B \\cdot C^\\top$."
   ]
  },
  {
   "cell_type": "code",
   "execution_count": null,
   "metadata": {
    "deletable": false,
    "nbgrader": {
     "cell_type": "code",
     "checksum": "ec0e0d4940bbd58c41ca20b6ee281fab",
     "grade": false,
     "grade_id": "cell-122aed4e0d6c83d8",
     "locked": false,
     "schema_version": 3,
     "solution": true,
     "task": false
    }
   },
   "outputs": [],
   "source": [
    "# YOUR CODE HERE\n"
   ]
  },
  {
   "attachments": {},
   "cell_type": "markdown",
   "metadata": {},
   "source": [
    "What happens if you execute `D ** 2`?"
   ]
  },
  {
   "cell_type": "code",
   "execution_count": null,
   "metadata": {
    "deletable": false,
    "nbgrader": {
     "cell_type": "code",
     "checksum": "199c91d98686ec0fe140eb7af297cc0a",
     "grade": false,
     "grade_id": "cell-c615c2d03a6ce63c",
     "locked": false,
     "schema_version": 3,
     "solution": true,
     "task": false
    }
   },
   "outputs": [],
   "source": [
    "# YOUR CODE HERE\n"
   ]
  },
  {
   "cell_type": "markdown",
   "metadata": {},
   "source": [
    "The command\n",
    "\n",
    "    np.random.randint(5, size=(2, 4))\n",
    "    \n",
    "generates a `2 × 4` array of random integers between 0 and 4.\n",
    "\n",
    "Since you generate random numbers, the result will be slightly different each time you run your code.\n",
    "\n",
    "**Task**: Execute the following cells multiple times to observe this behaviour."
   ]
  },
  {
   "cell_type": "code",
   "execution_count": null,
   "metadata": {
    "editable": true,
    "slideshow": {
     "slide_type": ""
    },
    "tags": []
   },
   "outputs": [],
   "source": [
    "np.random.randint(5, size=(2, 4))"
   ]
  },
  {
   "attachments": {},
   "cell_type": "markdown",
   "metadata": {
    "editable": true,
    "slideshow": {
     "slide_type": ""
    },
    "tags": []
   },
   "source": [
    "**Task**: Now, create a `4000 × 4` array `X` of standard-normal distributed random variables using `np.random.randn`.\n",
    "Compute the columnwise mean and variance of `X` using the commands `np.mean` and `np.var` (or the corresponding methods).\n",
    "\n",
    "For debugging and testing purposes you should always initially set the seed of the random number generator to a fixed value by typing\n",
    "\n",
    "    np.random.seed(0)\n",
    "    \n",
    "**Task**: Set the random number seed to 0 and repeat the generation of `X` as well as the computation of the *mean* and the *variance*. Compare your results with those of your colleagues."
   ]
  },
  {
   "cell_type": "code",
   "execution_count": null,
   "metadata": {
    "deletable": false,
    "editable": true,
    "nbgrader": {
     "cell_type": "code",
     "checksum": "153d48f7f0c958e3980f6718276c0f0d",
     "grade": false,
     "grade_id": "cell-025766ec0d808ecf",
     "locked": false,
     "schema_version": 3,
     "solution": true,
     "task": false
    },
    "slideshow": {
     "slide_type": ""
    },
    "tags": []
   },
   "outputs": [],
   "source": [
    "# YOUR CODE HERE"
   ]
  },
  {
   "cell_type": "markdown",
   "metadata": {},
   "source": [
    "**Task**: In Jupyter Lab, you can hit **Shift + Tab** when you are within a function to get an interactive display showing the signature, documentation and other stuff. In Google Colab, you get the same information by just waiting a second. Note that you must have already imported the function/module.\n",
    "You should try this with the function `np.random.seed` which resets the default random number generator. You will find out, that this is actually a *legacy function* and that there is a better way to accomplish replicability when working with random input."
   ]
  },
  {
   "cell_type": "code",
   "execution_count": null,
   "metadata": {
    "editable": true,
    "slideshow": {
     "slide_type": ""
    },
    "tags": []
   },
   "outputs": [],
   "source": [
    "# YOUR CODE HERE"
   ]
  },
  {
   "attachments": {},
   "cell_type": "markdown",
   "metadata": {},
   "source": [
    "## Part C: Introduction Plots"
   ]
  },
  {
   "attachments": {},
   "cell_type": "markdown",
   "metadata": {},
   "source": [
    "This exercise introduces to you some important plot routines.\n",
    "The package `matplotlib` is one of the most popular modules in this context.\n",
    "It provides similar functionality as *MATLAB*, and is fairly user-friendly.\n",
    "You can import the core module `pyplot` by\n",
    "    \n",
    "    import matplotlib.pyplot as plt\n",
    "    \n",
    "You can find more information and a nice tutorial under\n",
    "https://realpython.com/python-matplotlib-guide/\n"
   ]
  },
  {
   "cell_type": "code",
   "execution_count": null,
   "metadata": {},
   "outputs": [],
   "source": [
    "import matplotlib.pyplot as plt"
   ]
  },
  {
   "attachments": {},
   "cell_type": "markdown",
   "metadata": {},
   "source": [
    "**Task**: Create a vector `x` (here as a numpy array)\n",
    "\n",
    "    x = np.linspace(-5,5,101)\n",
    "    \n",
    "that partitions the interval $[−5, 5]$ into 101 equidistant points. Compute $y = x^2$ as well as $z = x^3$.\n",
    "The command\n",
    "\n",
    "    plt.plot(x,y)\n",
    "    \n",
    "creates a simple plot of the function $y = f(x) = x^2$.\n",
    "In contrast to MATLAB, python does not create a new figure each time you call `plt.plot`.\n",
    "Python tries to plot everthing into one figure until the end of the cell or the beginning of a new figure.\n",
    "\n",
    "**Task**: Try to plot both functions $y(x)$ and $z(x)$\n",
    "in one figure.\n",
    "\n",
    "You can beautify the plot by setting axes labels as well as choose a suitable title. Test this by including the lines\n",
    "\n",
    "    plt.xlabel('x')\n",
    "    plt.ylabel('f(x)')\n",
    "    plt.title('Example functions')\n",
    "\n",
    "into your code cell."
   ]
  },
  {
   "cell_type": "code",
   "execution_count": null,
   "metadata": {
    "deletable": false,
    "editable": true,
    "nbgrader": {
     "cell_type": "code",
     "checksum": "60a2f666c2fe97c37f7cf7fdafcc648a",
     "grade": false,
     "grade_id": "cell-da73f07b588384aa",
     "locked": false,
     "schema_version": 3,
     "solution": true,
     "task": false
    },
    "slideshow": {
     "slide_type": ""
    },
    "tags": []
   },
   "outputs": [],
   "source": [
    "# YOUR CODE HERE\n"
   ]
  },
  {
   "attachments": {},
   "cell_type": "markdown",
   "metadata": {},
   "source": [
    "Now we want to plot the bivariate function\n",
    "\n",
    "$$\n",
    "f(x,y) = e^{−(x^2 +y^2)}.\n",
    "$$\n",
    "\n",
    "**Task**: Execute the following code and try to figure out what it is doing."
   ]
  },
  {
   "cell_type": "code",
   "execution_count": null,
   "metadata": {
    "editable": true,
    "slideshow": {
     "slide_type": ""
    },
    "tags": []
   },
   "outputs": [],
   "source": [
    "from matplotlib import cm\n",
    "\n",
    "# Generate a 1 dimensional array ...\n",
    "z = np.linspace(-3, 3, 201)\n",
    "\n",
    "# ... and use this to create a mesh grid\n",
    "x, y = np.meshgrid(z, z)\n",
    "\n",
    "# Now, we can compute the function values f(x,y)\n",
    "f = np.exp(-(np.power(x,2) + np.power(y,2)))\n",
    "\n",
    "# The following command opens a new figure\n",
    "fig = plt.figure()\n",
    "\n",
    "# The next command determines the 3d type\n",
    "ax = plt.axes(projection='3d')\n",
    "\n",
    "# Generate a surface plot of the function\n",
    "ax.plot_surface(x,y,f, cmap=cm.viridis)\n",
    "# You can use the dollarmath-notation to\n",
    "# display text in math mode\n",
    "ax.set_xlabel('$x$')\n",
    "ax.set_ylabel('$y$');\n"
   ]
  },
  {
   "attachments": {},
   "cell_type": "markdown",
   "metadata": {},
   "source": [
    "**Task**: Create a contour plot of the function\n",
    "\n",
    "$$\n",
    "g(x,y) = \\sin(3 \\,x)\\,  \\cos(2 \\, y)\n",
    "$$\n",
    "\n",
    "using the function `plt.contour` or `plt.contourf` in a reasonable domain."
   ]
  },
  {
   "cell_type": "code",
   "execution_count": null,
   "metadata": {
    "deletable": false,
    "editable": true,
    "nbgrader": {
     "cell_type": "code",
     "checksum": "5b72a2fbac9dbc54823dfec3b1860058",
     "grade": false,
     "grade_id": "cell-4dbdb8c867345b71",
     "locked": false,
     "schema_version": 3,
     "solution": true,
     "task": false
    },
    "slideshow": {
     "slide_type": ""
    },
    "tags": []
   },
   "outputs": [],
   "source": [
    "# YOUR CODE HERE\n"
   ]
  },
  {
   "attachments": {},
   "cell_type": "markdown",
   "metadata": {
    "editable": true,
    "slideshow": {
     "slide_type": ""
    },
    "tags": []
   },
   "source": [
    "## Optional Part D: Dice example"
   ]
  },
  {
   "attachments": {},
   "cell_type": "markdown",
   "metadata": {
    "editable": true,
    "slideshow": {
     "slide_type": ""
    },
    "tags": []
   },
   "source": [
    "We consider the example of rolling a dice mupltiple times.\n",
    "\n",
    "**Task**: Create a numpy array containing the value of `n` realizations of a random variable $X_1$ with $\\Omega=\\{ 1, 2, 3, 4, 5, 6 \\}$ and \n",
    "\n",
    "$$\n",
    "P(X_1=1) = P(X_1=2) = \\dots = P(X_1=6) = \\frac{1}{6}\n",
    "$$\n",
    "\n",
    "using one or a subset of the functions `np.random.rand`, `np.ones`, `np.round`, `np.random.uniform`, `np.random.randint`.\n",
    "\n",
    "Set `n=100` using the random seed `np.random.seed(0)` and verify that the mean of the array somewhere around $3.5$.\n",
    "You should also observe that the mean converges to $3.5$ as you increase `n`."
   ]
  },
  {
   "cell_type": "code",
   "execution_count": null,
   "metadata": {
    "deletable": false,
    "editable": true,
    "nbgrader": {
     "cell_type": "code",
     "checksum": "201f59a9cb46a95a73c4cf71a5d29269",
     "grade": false,
     "grade_id": "cell-8a503d5b73e25381",
     "locked": false,
     "schema_version": 3,
     "solution": true,
     "task": false
    },
    "slideshow": {
     "slide_type": ""
    },
    "tags": []
   },
   "outputs": [],
   "source": [
    "# YOUR CODE HERE"
   ]
  },
  {
   "attachments": {},
   "cell_type": "markdown",
   "metadata": {},
   "source": [
    "**Task:** Now create a second array containing the outcome of another `n` dice throws and consider the sum of both arrays and name it `dices`. Verify that the entries of `dices` are no smaller than $2$ and no larger than $12$."
   ]
  },
  {
   "cell_type": "code",
   "execution_count": null,
   "metadata": {
    "deletable": false,
    "editable": true,
    "nbgrader": {
     "cell_type": "code",
     "checksum": "c4381a28c59ef544832ada5c4bb93543",
     "grade": false,
     "grade_id": "cell-f118517c9613183a",
     "locked": false,
     "schema_version": 3,
     "solution": true,
     "task": false
    },
    "slideshow": {
     "slide_type": ""
    },
    "tags": []
   },
   "outputs": [],
   "source": [
    "# YOUR CODE HERE"
   ]
  },
  {
   "attachments": {},
   "cell_type": "markdown",
   "metadata": {},
   "source": [
    "If you have done everything correctly, the cell below should now create a histogram plot of the `n` outcomes of the random variable $X_2: \\Omega \\times \\Omega \\rightarrow B$ with $X_2((n_1, n_2)) = n_1 + n_2$.\n",
    "\n",
    "**Task:** Increase the number `n` and re-run the two cells above as well as the one cell below. What do you observe in the histogram?"
   ]
  },
  {
   "cell_type": "code",
   "execution_count": null,
   "metadata": {
    "editable": true,
    "slideshow": {
     "slide_type": ""
    },
    "tags": []
   },
   "outputs": [],
   "source": [
    "# Generate a histogram plot with one bin for each obtained outcome\n",
    "plt.hist(dices, int(max(dices)) - int(min(dices)) + 1);"
   ]
  },
  {
   "attachments": {},
   "cell_type": "markdown",
   "metadata": {
    "editable": true,
    "slideshow": {
     "slide_type": ""
    },
    "tags": []
   },
   "source": [
    "Given that we have a set of (independent) random variables $X_1$ up to $X_n$ with identical distribution with existing expectation and variance.\n",
    "We want to visualize that the sum \n",
    "\n",
    "$$\n",
    "S_n := X_1 + ... + X_n\n",
    "$$\n",
    "\n",
    "is approximately distributed like a normal distribution (it converges for $n\\to\\infty$).\n",
    "\n",
    "**Task:** Create an $m\\times n$-array `samples` with each of it's $m$ samples is of size $n$.\n",
    "Fill each sample with realizations of a discrete uniform distributed random variable with outcomes $\\lbrace 1,2,\\dots,9 \\rbrace$.\n",
    "Create an array `s` which contains the sum of each row of `samples`.\n"
   ]
  },
  {
   "cell_type": "code",
   "execution_count": null,
   "metadata": {
    "deletable": false,
    "editable": true,
    "nbgrader": {
     "cell_type": "code",
     "checksum": "d8da744b14127a8292e3a58dd53ce64c",
     "grade": false,
     "grade_id": "cell-66ad44534ad293cf",
     "locked": false,
     "schema_version": 3,
     "solution": true,
     "task": false
    },
    "slideshow": {
     "slide_type": ""
    },
    "tags": []
   },
   "outputs": [],
   "source": [
    "np.random.seed(0)\n",
    "\n",
    "# size of samples\n",
    "n = 100\n",
    "# number of samples\n",
    "m = 100000\n",
    "\n",
    "# YOUR CODE HERE\n",
    "\n"
   ]
  },
  {
   "attachments": {},
   "cell_type": "markdown",
   "metadata": {},
   "source": [
    "Our next goal is to draw a histogram of `s` and the belonging probability density function of the normal distribution (also known as bell-curve) in the same figure.\n",
    "\n",
    "**Task:** Get the sample-mean and the sample-variance of `s` and use it to draw the belongig bell-curve:\n",
    "\n",
    "$$\n",
    "f(x) = \\frac{1}{\\sqrt{2\\pi\\sigma^2}} \\mathrm{e}^{-\\frac{(x-\\mu)^2}{2\\sigma^2}}.\n",
    "$$"
   ]
  },
  {
   "cell_type": "code",
   "execution_count": null,
   "metadata": {
    "deletable": false,
    "nbgrader": {
     "cell_type": "code",
     "checksum": "f1514145d7477374fe7f43bffc90d9b9",
     "grade": false,
     "grade_id": "cell-b7c9124b37f84f16",
     "locked": false,
     "schema_version": 3,
     "solution": true,
     "task": false
    }
   },
   "outputs": [],
   "source": [
    "# x is the domain of f we are interested in\n",
    "x = np.arange(int(min(s)), int(max(s)) + 1)\n",
    "\n",
    "# YOUR CODE HERE\n"
   ]
  },
  {
   "attachments": {},
   "cell_type": "markdown",
   "metadata": {},
   "source": [
    "**Task:** Plot now the histogram and the bell-curve in the same figure.\n",
    "\n",
    "(Hint: Use density=True in plt.hist)"
   ]
  },
  {
   "cell_type": "code",
   "execution_count": null,
   "metadata": {
    "deletable": false,
    "nbgrader": {
     "cell_type": "code",
     "checksum": "3a33f3f776a64bdca164da9ae03e4a93",
     "grade": false,
     "grade_id": "cell-754ba9373f79396b",
     "locked": false,
     "schema_version": 3,
     "solution": true,
     "task": false
    }
   },
   "outputs": [],
   "source": [
    "# YOUR CODE HERE\n"
   ]
  }
 ],
 "metadata": {
  "kernelspec": {
   "display_name": "Python 3 (ipykernel)",
   "language": "python",
   "name": "python3"
  },
  "language_info": {
   "codemirror_mode": {
    "name": "ipython",
    "version": 3
   },
   "file_extension": ".py",
   "mimetype": "text/x-python",
   "name": "python",
   "nbconvert_exporter": "python",
   "pygments_lexer": "ipython3",
   "version": "3.13.3"
  },
  "vscode": {
   "interpreter": {
    "hash": "64f66822a0f77c79a13345922a004189662baff35ab326d8d7e9a08c27c4bee1"
   }
  }
 },
 "nbformat": 4,
 "nbformat_minor": 4
}
